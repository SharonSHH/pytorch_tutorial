{
 "cells": [
  {
   "cell_type": "markdown",
   "metadata": {},
   "source": [
    "# Read File, write file, open file, delete file, copy file\n",
    "\n",
    "## Python File Operation:\n",
    "- 1. Open a file\n",
    "- 2. Take input from that file/ write output to that file\n",
    "- 3. Close the file\n",
    "\n",
    "The first step is to open the file, then you can open a file by using __open()__ function.   \n",
    "__a file object = open(filename, mode)__  \n",
    "Two arguments: \n",
    "    1. file address\n",
    "    2. Open mode:\n",
    "        - 'r': reading only\n",
    "        - 'w': writing only. If the file doesn't exist, it will create a new one. \n",
    "        - 'a': Append to the previous output of that file.\n",
    "        - 'r+': Bothe reading and writing.\n"
   ]
  },
  {
   "cell_type": "code",
   "execution_count": 1,
   "metadata": {},
   "outputs": [
    {
     "name": "stdout",
     "output_type": "stream",
     "text": [
      "<_io.TextIOWrapper name='print.txt' mode='r' encoding='UTF-8'>\n"
     ]
    }
   ],
   "source": [
    "txt = open('print.txt', 'r')\n",
    "print(txt)"
   ]
  },
  {
   "cell_type": "markdown",
   "metadata": {},
   "source": [
    "## Python Read file and write file  \n",
    "### If appending content to a file, with open mode: __'a'__.   \n",
    "The following list are the the common function for read and write in python.\n",
    "\n",
    "- read(): Reads the entire file and returns a string\n",
    "- readline(): Reads lines from the file and returns as a string. It only reads one line.\n",
    "- readlines(): returns a list where each element is single line of that file.\n",
    "- write(): writes a fixed sequence of characters to a file.\n",
    "- writelines(): writes a list of string.\n",
    "- append(): append string to the file instead of overwriting the file.\n"
   ]
  },
  {
   "cell_type": "code",
   "execution_count": 2,
   "metadata": {},
   "outputs": [
    {
     "name": "stdout",
     "output_type": "stream",
     "text": [
      "test\n",
      "\n",
      "['write\\n', 'append\\n', 'content\\n', 'text\\n', 'end\\n']\n"
     ]
    }
   ],
   "source": [
    "txt1 = open('print.txt', 'r')\n",
    "a = txt1.readline()\n",
    "print(a)\n",
    "b = txt1.readlines()\n",
    "print(b)"
   ]
  },
  {
   "cell_type": "code",
   "execution_count": 3,
   "metadata": {},
   "outputs": [
    {
     "name": "stdout",
     "output_type": "stream",
     "text": [
      "\n"
     ]
    }
   ],
   "source": [
    "print(txt1.readline())\n",
    "txt1.close()"
   ]
  },
  {
   "cell_type": "code",
   "execution_count": 4,
   "metadata": {},
   "outputs": [
    {
     "name": "stdout",
     "output_type": "stream",
     "text": [
      "Please enter data: \n",
      "test\n",
      "Please enter data: \n",
      "1\n",
      "Please enter data: \n",
      "2\n",
      "Please enter data: \n",
      "3\n"
     ]
    }
   ],
   "source": [
    "text_file = open('print.txt', 'w')\n",
    "#initialize an empty list\n",
    "word_list= []\n",
    "\n",
    "#iterate 4 times\n",
    "for i in range (1, 5):\n",
    "    print(\"Please enter data: \")\n",
    "    line = input() #take input\n",
    "    word_list.append(line) #append to the list\n",
    "    word_list.append('\\n')  ###### append function doesn't add any symbols \n",
    "\n",
    "\n",
    "text_file.writelines(word_list) #write 4 words to the file\n",
    "\n",
    "text_file.close() #don’t forget to close the file\n",
    "\n"
   ]
  },
  {
   "cell_type": "code",
   "execution_count": 5,
   "metadata": {},
   "outputs": [
    {
     "name": "stdout",
     "output_type": "stream",
     "text": [
      "life\n",
      "war\n"
     ]
    }
   ],
   "source": [
    "txt2 = open('print.txt', 'a')  ### Append content to a file: The mode is to open the file with 'a'\n",
    "w = []\n",
    "for i in range(2):\n",
    "    line = input()\n",
    "    w.append(line)\n",
    "    w.append('\\n')\n",
    "txt2.writelines(w)\n",
    "txt2.close()"
   ]
  },
  {
   "cell_type": "code",
   "execution_count": 6,
   "metadata": {},
   "outputs": [
    {
     "ename": "ValueError",
     "evalue": "I/O operation on closed file.",
     "output_type": "error",
     "traceback": [
      "\u001b[0;31m---------------------------------------------------------------------------\u001b[0m",
      "\u001b[0;31mValueError\u001b[0m                                Traceback (most recent call last)",
      "\u001b[0;32m<ipython-input-6-78e89718fb95>\u001b[0m in \u001b[0;36m<module>\u001b[0;34m\u001b[0m\n\u001b[0;32m----> 1\u001b[0;31m \u001b[0mprint\u001b[0m\u001b[0;34m(\u001b[0m\u001b[0mtxt1\u001b[0m\u001b[0;34m.\u001b[0m\u001b[0mreadline\u001b[0m\u001b[0;34m(\u001b[0m\u001b[0;34m)\u001b[0m\u001b[0;34m)\u001b[0m\u001b[0;34m\u001b[0m\u001b[0;34m\u001b[0m\u001b[0m\n\u001b[0m",
      "\u001b[0;31mValueError\u001b[0m: I/O operation on closed file."
     ]
    }
   ],
   "source": [
    "print(txt1.readline())"
   ]
  }
 ],
 "metadata": {
  "kernelspec": {
   "display_name": "Python 3",
   "language": "python",
   "name": "python3"
  },
  "language_info": {
   "codemirror_mode": {
    "name": "ipython",
    "version": 3
   },
   "file_extension": ".py",
   "mimetype": "text/x-python",
   "name": "python",
   "nbconvert_exporter": "python",
   "pygments_lexer": "ipython3",
   "version": "3.7.3"
  }
 },
 "nbformat": 4,
 "nbformat_minor": 4
}
