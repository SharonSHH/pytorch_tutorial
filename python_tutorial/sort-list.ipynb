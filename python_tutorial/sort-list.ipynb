{
 "cells": [
  {
   "cell_type": "markdown",
   "metadata": {},
   "source": [
    "# sort function in python\n",
    "sort function to sort the list, nested list in an natural way or in reverse.  \n",
    "__A nested list is a list that appears as an element in another list. But only the first element will be used to sort.__\n",
    "\n",
    "### sort(reverse=True)\n",
    "### write the function A to point the attribute of the list, and set key=A."
   ]
  },
  {
   "cell_type": "code",
   "execution_count": 1,
   "metadata": {},
   "outputs": [
    {
     "name": "stdout",
     "output_type": "stream",
     "text": [
      "Pixiedust database opened successfully\n"
     ]
    },
    {
     "data": {
      "text/html": [
       "\n",
       "        <div style=\"margin:10px\">\n",
       "            <a href=\"https://github.com/ibm-watson-data-lab/pixiedust\" target=\"_new\">\n",
       "                <img src=\"https://github.com/ibm-watson-data-lab/pixiedust/raw/master/docs/_static/pd_icon32.png\" style=\"float:left;margin-right:10px\"/>\n",
       "            </a>\n",
       "            <span>Pixiedust version 1.1.18</span>\n",
       "        </div>\n",
       "        "
      ],
      "text/plain": [
       "<IPython.core.display.HTML object>"
      ]
     },
     "metadata": {},
     "output_type": "display_data"
    }
   ],
   "source": [
    "import pixiedust"
   ]
  },
  {
   "cell_type": "code",
   "execution_count": 2,
   "metadata": {
    "pixiedust": {
     "displayParams": {}
    }
   },
   "outputs": [
    {
     "name": "stdout",
     "output_type": "stream",
     "text": [
      "Before sorting: [['Alice', 26, 'F'], ['Trudy', 25, 'M'], ['Bob', 24, 'M'], ['Alexa', 22, 'F']]\n",
      "After sorting: [['Alexa', 22, 'F'], ['Alice', 26, 'F'], ['Bob', 24, 'M'], ['Trudy', 25, 'M']]\n"
     ]
    }
   ],
   "source": [
    "#%%pixie_debugger\n",
    "import functools\n",
    "\n",
    "\n",
    "def compare_function(person_a, person_b):\n",
    "    if person_a[2] == person_b[2]:  # if their gender become same\n",
    "        return person_a[1] - person_b[1]  # return True if person_a is younger\n",
    "    else:  # if their gender not matched\n",
    "        if person_b[2] == 'F':  # give person_b first priority if she is female\n",
    "            return 1\n",
    "        else:  # otherwise give person_a first priority\n",
    "            return -1\n",
    "\n",
    "\n",
    "persons = [['Alice', 26, 'F'], ['Trudy', 25, 'M'], ['Bob', 24, 'M'], ['Alexa', 22, 'F']]\n",
    "\n",
    "print(f'Before sorting: {persons}')\n",
    "\n",
    "persons.sort(key=functools.cmp_to_key(compare_function))\n",
    "\n",
    "print(f'After sorting: {persons}')\n"
   ]
  },
  {
   "cell_type": "code",
   "execution_count": 3,
   "metadata": {
    "pixiedust": {
     "displayParams": {}
    }
   },
   "outputs": [
    {
     "name": "stdout",
     "output_type": "stream",
     "text": [
      "Before Sorting: [Emp[Alice:26:F], Emp[Trudy:25:M], Emp[Bob:24:M], Emp[Alexa:22:F]]\n",
      "After sorting: [Emp[Alexa:22:F], Emp[Bob:24:M], Emp[Trudy:25:M], Emp[Alice:26:F]]\n"
     ]
    }
   ],
   "source": [
    "#%%pixie_debugger\n",
    "# provide the key function to specify the objects’ field to be used for sorting.\n",
    "\n",
    "def sort_att(class_object):   # class_object: Emp[Alice:26:F]\n",
    "    return class_object.age    # the attribute of the class: value=26\n",
    "\n",
    "class Employee:\n",
    "\n",
    "    def __init__(self, n, a, gen):\n",
    "        self.name = n\n",
    "        self.age = a\n",
    "        self.gender = gen\n",
    "\n",
    "    def __str__(self):\n",
    "        return f'Emp[{self.name}:{self.age}:{self.gender}]'\n",
    "\n",
    "    # List uses __repr__, so overriding it to print useful information\n",
    "    __repr__ = __str__\n",
    "\n",
    "\n",
    "e1 = Employee('Alice', 26, 'F')\n",
    "e2 = Employee('Trudy', 25, 'M')\n",
    "e3 = Employee('Bob', 24, 'M')\n",
    "e4 = Employee('Alexa', 22, 'F')\n",
    "\n",
    "emp_list = [e1, e2, e3, e4]\n",
    "\n",
    "print(f'Before Sorting: {emp_list}')\n",
    "\n",
    "try:\n",
    "    emp_list.sort(key=sort_att)\n",
    "    print(f'After sorting: {emp_list}')\n",
    "except TypeError as te:\n",
    "    print(te)"
   ]
  },
  {
   "cell_type": "code",
   "execution_count": 4,
   "metadata": {},
   "outputs": [
    {
     "name": "stdout",
     "output_type": "stream",
     "text": [
      "Before sorting: [3.4, 5.1, 2.2, 4.1, 1.0, 3.8]\n",
      "After sorting: [5.1, 4.1, 3.8, 3.4, 2.2, 1.0]\n"
     ]
    }
   ],
   "source": [
    "numbers_list = [3.4, 5.1, 2.2, 4.1, 1.0, 3.8]\n",
    "\n",
    "print(f'Before sorting: {numbers_list}')\n",
    "\n",
    "numbers_list.sort(reverse=True)\n",
    "\n",
    "print(f'After sorting: {numbers_list}')"
   ]
  },
  {
   "cell_type": "code",
   "execution_count": 5,
   "metadata": {},
   "outputs": [
    {
     "name": "stdout",
     "output_type": "stream",
     "text": [
      "Before sorting: [[1, 2], [2, 1], [4, 3], [5, 2], [3, 3]]\n",
      "After sorting: [[1, 2], [2, 1], [3, 3], [4, 3], [5, 2]]\n"
     ]
    }
   ],
   "source": [
    "# nested list\n",
    "numbers = [[1, 2], [2, 1], [4, 3], [5, 2], [3, 3]]\n",
    "\n",
    "print(f'Before sorting: {numbers}')\n",
    "\n",
    "numbers.sort()\n",
    "\n",
    "print(f'After sorting: {numbers}')"
   ]
  },
  {
   "cell_type": "code",
   "execution_count": 6,
   "metadata": {},
   "outputs": [
    {
     "name": "stdout",
     "output_type": "stream",
     "text": [
      "Before sorting: (3.4, 5.1, 2.2, 4.1, 1.0, 3.8)\n"
     ]
    },
    {
     "ename": "AttributeError",
     "evalue": "'tuple' object has no attribute 'sort'",
     "output_type": "error",
     "traceback": [
      "\u001b[0;31m-----------------------------------------------------------\u001b[0m",
      "\u001b[0;31mAttributeError\u001b[0m            Traceback (most recent call last)",
      "\u001b[0;32m<ipython-input-6-eb25e5f3211d>\u001b[0m in \u001b[0;36m<module>\u001b[0;34m\u001b[0m\n\u001b[1;32m      3\u001b[0m \u001b[0mprint\u001b[0m\u001b[0;34m(\u001b[0m\u001b[0;34mf'Before sorting: {numbers_list}'\u001b[0m\u001b[0;34m)\u001b[0m\u001b[0;34m\u001b[0m\u001b[0;34m\u001b[0m\u001b[0m\n\u001b[1;32m      4\u001b[0m \u001b[0;34m\u001b[0m\u001b[0m\n\u001b[0;32m----> 5\u001b[0;31m \u001b[0mnumbers_list\u001b[0m\u001b[0;34m.\u001b[0m\u001b[0msort\u001b[0m\u001b[0;34m(\u001b[0m\u001b[0mreverse\u001b[0m\u001b[0;34m=\u001b[0m\u001b[0;32mTrue\u001b[0m\u001b[0;34m)\u001b[0m\u001b[0;34m\u001b[0m\u001b[0;34m\u001b[0m\u001b[0m\n\u001b[0m\u001b[1;32m      6\u001b[0m \u001b[0;34m\u001b[0m\u001b[0m\n\u001b[1;32m      7\u001b[0m \u001b[0mprint\u001b[0m\u001b[0;34m(\u001b[0m\u001b[0;34mf'After sorting: {numbers_list}'\u001b[0m\u001b[0;34m)\u001b[0m\u001b[0;34m\u001b[0m\u001b[0;34m\u001b[0m\u001b[0m\n",
      "\u001b[0;31mAttributeError\u001b[0m: 'tuple' object has no attribute 'sort'"
     ]
    }
   ],
   "source": [
    "numbers_list = (3.4, 5.1, 2.2, 4.1, 1.0, 3.8)\n",
    "\n",
    "print(f'Before sorting: {numbers_list}')\n",
    "\n",
    "numbers_list.sort(reverse=True)\n",
    "\n",
    "print(f'After sorting: {numbers_list}')"
   ]
  },
  {
   "cell_type": "code",
   "execution_count": null,
   "metadata": {},
   "outputs": [],
   "source": []
  }
 ],
 "metadata": {
  "kernelspec": {
   "display_name": "Python 3",
   "language": "python",
   "name": "python3"
  },
  "language_info": {
   "codemirror_mode": {
    "name": "ipython",
    "version": 3
   },
   "file_extension": ".py",
   "mimetype": "text/x-python",
   "name": "python",
   "nbconvert_exporter": "python",
   "pygments_lexer": "ipython3",
   "version": "3.7.3"
  }
 },
 "nbformat": 4,
 "nbformat_minor": 4
}
