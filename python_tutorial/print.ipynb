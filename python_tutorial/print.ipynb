{
 "cells": [
  {
   "cell_type": "markdown",
   "metadata": {},
   "source": [
    "# python print function: \n",
    "\n",
    "The basic structure of python print function:\n",
    "print(*value, sep=' ', end='\\n', file=sys.stdout, flush=False)\n",
    "\n",
    "- value: receives a list of undefined variables. So all the comma separated values will goes under the list values. Then print them all separated by space.\n",
    "\n",
    "- sep: separate the values with your own style. e. using underscore(_), then sep='_'\n",
    "- end: set the value of end to append when printing is done. Therefore, default the end key is '\\n', so each print will be in different line.\n"
   ]
  },
  {
   "cell_type": "markdown",
   "metadata": {},
   "source": [
    "# Function and Arguments  \n",
    "\n",
    "\n",
    "#### When don't know how many arguments you will pass in the function, you can allow the function to take variable number of arguments.  \n",
    "- To do this, add an asterisk(*) right before your argument name.\n",
    "- Constraint: 1. the last argument of the function. 2. have only one argument of this kind argument in one function. \n",
    "\n",
    "#### Passing key-value pair as Optional Python Function Arguments. (When don't know how many arguments for option, but they have keyword.)  \n",
    "- To do this, add two asterisk(\\**) right before the special argument.\n",
    "#### The parameters for **option, they origanize in a dictionary: key and value. \n",
    " "
   ]
  },
  {
   "cell_type": "code",
   "execution_count": 10,
   "metadata": {},
   "outputs": [
    {
     "name": "stdout",
     "output_type": "stream",
     "text": [
      "1 string-2 23.42\n"
     ]
    }
   ],
   "source": [
    "# initialize 1st variable\n",
    "var1 = 1\n",
    "\n",
    "# initialize 2nd variable\n",
    "var2 = 'string-2'\n",
    "\n",
    "# initialize 3rd variable\n",
    "var3 = float(23.42)\n",
    "\n",
    "print(var1, var2, var3)"
   ]
  },
  {
   "cell_type": "code",
   "execution_count": 3,
   "metadata": {},
   "outputs": [
    {
     "name": "stdout",
     "output_type": "stream",
     "text": [
      "Printing using default print function\n",
      "Printing using modified print function\n"
     ]
    }
   ],
   "source": [
    "# print to file\n",
    "\n",
    "fi = open('print.txt', 'w')\n",
    "initList = ['start', 'please', 'warning']\n",
    "print('Printing using default print function')\n",
    "for item in initList:\n",
    "    print(item, file=fi)  # use file keyword\n",
    "\n",
    "print(file=fi)  #### Here add end='\\n', add another blank line here.\n",
    "\n",
    "# print each words using modified print function\n",
    "print('Printing using modified print function')\n",
    "for item in initList:\n",
    "    print(item, end='-', file=fi)  # use file keyword\n",
    "\n",
    "# close the file\n",
    "fi.close()"
   ]
  },
  {
   "cell_type": "code",
   "execution_count": 8,
   "metadata": {},
   "outputs": [
    {
     "name": "stdout",
     "output_type": "stream",
     "text": [
      "First time:\n",
      "This is the first argument:: of 1st function call\n",
      "(2, 3, 4, 5)\n",
      "2\n",
      "3\n",
      "4\n",
      "5\n",
      "Second time:\n",
      "This is the first argument:: of 2nd function call\n",
      "('asd', 'Bcd')\n",
      "asd\n",
      "Bcd\n",
      "Third time:\n",
      "This is the first argument:: and only argument of 3rd function call\n",
      "()\n"
     ]
    }
   ],
   "source": [
    "# Example 1 for arguments of the function\n",
    "def varFunc(name,*args):\n",
    "        print(\"This is the first argument:: \"+str(name))\n",
    "        #This print will make you understand that the args is a list\n",
    "        print(args)\n",
    "        for item in args:\n",
    "                print(item)\n",
    "\n",
    "print(\"First time:\")\n",
    "varFunc(\"of 1st function call\",2, 3, 4, 5)\n",
    "\n",
    "print(\"Second time:\")\n",
    "varFunc(\"of 2nd function call\",\"asd\",\"Bcd\")\n",
    "\n",
    "print(\"Third time:\")\n",
    "varFunc(\"and only argument of 3rd function call\")"
   ]
  },
  {
   "cell_type": "code",
   "execution_count": 4,
   "metadata": {},
   "outputs": [
    {
     "name": "stdout",
     "output_type": "stream",
     "text": [
      "Pixiedust database opened successfully\n"
     ]
    },
    {
     "data": {
      "text/html": [
       "\n",
       "        <div style=\"margin:10px\">\n",
       "            <a href=\"https://github.com/ibm-watson-data-lab/pixiedust\" target=\"_new\">\n",
       "                <img src=\"https://github.com/ibm-watson-data-lab/pixiedust/raw/master/docs/_static/pd_icon32.png\" style=\"float:left;margin-right:10px\"/>\n",
       "            </a>\n",
       "            <span>Pixiedust version 1.1.18</span>\n",
       "        </div>\n",
       "        "
      ],
      "text/plain": [
       "<IPython.core.display.HTML object>"
      ]
     },
     "metadata": {},
     "output_type": "display_data"
    }
   ],
   "source": [
    "import pixiedust"
   ]
  },
  {
   "cell_type": "code",
   "execution_count": 9,
   "metadata": {
    "pixiedust": {
     "displayParams": {}
    }
   },
   "outputs": [
    {
     "name": "stdout",
     "output_type": "stream",
     "text": [
      "First Person\n",
      "Name: Alice\n",
      "Roll: 234\n",
      "Age: 18\n",
      "Gender: female\n",
      "\n",
      "Second Person\n",
      "Name: Bob\n",
      "Roll: 204\n",
      "Age: 21\n",
      "Gender: male\n",
      "\n",
      "Third Person\n",
      "Name: Trudy\n",
      "Roll: 204\n",
      "Gender: male\n"
     ]
    }
   ],
   "source": [
    "# Example 2 for arguments of the function\n",
    "# The parameters for **option, they origanize in a dictionary:\n",
    "# key and value. \n",
    "\n",
    "# %%pixie_debugger\n",
    "def varFunc(name, roll, **option):\n",
    "        print(\"Name: \"+name)\n",
    "        print(\"Roll: \"+str(roll))\n",
    "        if \"age\" in option :\n",
    "                print(\"Age: \"+ str(option.get(\"age\")))\n",
    "        if \"gender\" in option:\n",
    "                print(\"Gender: \"+ str(option.get(\"gender\")))\n",
    "\n",
    "print(\"First Person\")\n",
    "varFunc(\"Alice\", 234, age=18, gender=\"female\")\n",
    "\n",
    "print(\"\\nSecond Person\")\n",
    "#See, the order of argument age and gender is different now\n",
    "varFunc(\"Bob\", 204, gender=\"male\", age=21)\n",
    "\n",
    "print(\"\\nThird Person\")\n",
    "#We will not pass age as and argument\n",
    "varFunc(\"Trudy\", 204, gender=\"male\")"
   ]
  },
  {
   "cell_type": "code",
   "execution_count": null,
   "metadata": {},
   "outputs": [],
   "source": []
  }
 ],
 "metadata": {
  "kernelspec": {
   "display_name": "Python 3",
   "language": "python",
   "name": "python3"
  },
  "language_info": {
   "codemirror_mode": {
    "name": "ipython",
    "version": 3
   },
   "file_extension": ".py",
   "mimetype": "text/x-python",
   "name": "python",
   "nbconvert_exporter": "python",
   "pygments_lexer": "ipython3",
   "version": "3.7.3"
  }
 },
 "nbformat": 4,
 "nbformat_minor": 4
}
