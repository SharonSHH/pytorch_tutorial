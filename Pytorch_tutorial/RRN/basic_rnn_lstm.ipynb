{
 "cells": [
  {
   "cell_type": "markdown",
   "metadata": {},
   "source": [
    "## 实战1： 建立一个RNN：输入维度=20， 输出维度=50，两层单向网络. 使用nn.RNN()\n",
    "#### Basic_rnn = nn.RNN(input_size=20, output_size=50, num_layers=2)\n",
    "##### input_size: 输入Xt的特征维度； hidden_size: ht的特征维度； num_layers: 网络层数\n",
    "\n",
    "\n",
    "random input：长100， 批量32， 维度20的张量； __默认网络输入是按照（seq, batch, feature)__   \n",
    "隐藏状态：2层单向，批量32，输出维度50； __维度：（layer*direction, batch, hidden）__  \n"
   ]
  },
  {
   "cell_type": "code",
   "execution_count": 1,
   "metadata": {},
   "outputs": [],
   "source": [
    "import torch\n",
    "from torch.autograd import Variable\n",
    "import torch.nn as nn\n",
    "import  torch.optim as optim"
   ]
  },
  {
   "cell_type": "code",
   "execution_count": 2,
   "metadata": {},
   "outputs": [],
   "source": [
    "t_input = Variable(torch.randn(100, 32, 20))\n",
    "h_0 = Variable(torch.randn(2, 32, 50)) # （layer*direction, batch, hidden）"
   ]
  },
  {
   "cell_type": "code",
   "execution_count": 3,
   "metadata": {},
   "outputs": [
    {
     "name": "stdout",
     "output_type": "stream",
     "text": [
      "tensor([[[ 1.1766, -0.1340, -0.3779,  ..., -0.7622,  2.0073, -0.7496],\n",
      "         [-0.2983, -0.4482,  1.3328,  ..., -0.1887, -0.2076, -0.9575],\n",
      "         [-1.2139, -1.0383, -0.7973,  ...,  1.0105,  1.1222, -0.2479],\n",
      "         ...,\n",
      "         [-1.5271, -0.4812, -1.3611,  ..., -0.1640,  0.5959,  0.2770],\n",
      "         [-0.2332, -0.1771,  1.7558,  ...,  0.5657, -1.3752, -0.5134],\n",
      "         [-1.5511, -0.6120,  0.8784,  ...,  0.4729, -0.2417, -0.3775]],\n",
      "\n",
      "        [[ 0.1277,  0.5857,  0.4495,  ...,  0.0677, -0.5468,  0.1855],\n",
      "         [ 1.7018, -0.2000, -0.5862,  ..., -0.2503, -0.7373, -1.2837],\n",
      "         [ 0.2097, -0.9845, -1.6835,  ..., -0.1500,  1.2888, -0.9757],\n",
      "         ...,\n",
      "         [ 1.8378,  0.2787, -0.4612,  ..., -0.7711, -1.5906,  1.2668],\n",
      "         [-0.2451, -0.1851,  0.4963,  ...,  0.7419, -1.0203,  0.7213],\n",
      "         [-0.8528,  1.1847,  0.1081,  ...,  0.4717,  2.4274,  1.8979]]])\n"
     ]
    }
   ],
   "source": [
    "print(h_0)"
   ]
  },
  {
   "cell_type": "code",
   "execution_count": 4,
   "metadata": {},
   "outputs": [],
   "source": [
    "# Here create the RNN, set 3 parameters. \n",
    "basic_rnn = nn.RNN(input_size=20, hidden_size=50, num_layers=2)"
   ]
  },
  {
   "cell_type": "code",
   "execution_count": 5,
   "metadata": {},
   "outputs": [
    {
     "name": "stdout",
     "output_type": "stream",
     "text": [
      "torch.Size([100, 32, 50])\n",
      "torch.Size([2, 32, 50])\n"
     ]
    }
   ],
   "source": [
    "out, h_n = basic_rnn(t_input, h_0)\n",
    "print(out.size())\n",
    "print(h_n.shape)"
   ]
  },
  {
   "cell_type": "code",
   "execution_count": 6,
   "metadata": {},
   "outputs": [
    {
     "name": "stdout",
     "output_type": "stream",
     "text": [
      "torch.Size([50, 50])\n",
      "torch.Size([50, 50])\n",
      "torch.Size([50, 20])\n",
      "torch.Size([50, 50])\n"
     ]
    }
   ],
   "source": [
    "print(basic_rnn.weight_hh_l0.size())\n",
    "print(basic_rnn.weight_hh_l1.size())\n",
    "print(basic_rnn.weight_ih_l0.size())\n",
    "print(basic_rnn.weight_ih_l1.size())"
   ]
  },
  {
   "cell_type": "markdown",
   "metadata": {},
   "source": [
    "# 在PyTorch中，使用nn.LSTM()，参数与RNN一样。\n",
    "\n",
    "\n",
    "实战1： 建立一个LSTM：输入维度=20， 输出维度=50，两层单向网络  \n",
    "Lstm = nn.LSTM(input_size=20, hidden_size=50, num_layers=2)  \n",
    "但是，lstm的参数维度，不同于RNN。 lstm比RNN维度多了3个线性变换，因此是RNN维度的4倍。  "
   ]
  },
  {
   "cell_type": "code",
   "execution_count": 8,
   "metadata": {},
   "outputs": [
    {
     "name": "stdout",
     "output_type": "stream",
     "text": [
      "torch.Size([200, 50])\n",
      "torch.Size([200, 50])\n",
      "torch.Size([200, 20])\n",
      "torch.Size([200, 50])\n"
     ]
    }
   ],
   "source": [
    "lstm = nn.LSTM(input_size=20, hidden_size=50, num_layers=2) \n",
    "print(lstm.weight_hh_l0.size())\n",
    "print(lstm.weight_hh_l1.size())\n",
    "print(lstm.weight_ih_l0.size())\n",
    "print(lstm.weight_ih_l1.size())"
   ]
  },
  {
   "cell_type": "code",
   "execution_count": 10,
   "metadata": {},
   "outputs": [],
   "source": [
    "# 这里不传入h0，表示传入参数全是0的隐藏状态h0和c0\n",
    "lstm_out, (l_h_n, c_n) = lstm(t_input)  # t_input(100, 32, 20)"
   ]
  },
  {
   "cell_type": "code",
   "execution_count": 12,
   "metadata": {},
   "outputs": [
    {
     "name": "stdout",
     "output_type": "stream",
     "text": [
      "torch.Size([100, 32, 50])\n",
      "torch.Size([2, 32, 50])\n",
      "torch.Size([2, 32, 50])\n"
     ]
    }
   ],
   "source": [
    "print(lstm_out.size())\n",
    "print(l_h_n.size())\n",
    "print(c_n.size())"
   ]
  },
  {
   "cell_type": "code",
   "execution_count": null,
   "metadata": {},
   "outputs": [],
   "source": []
  }
 ],
 "metadata": {
  "kernelspec": {
   "display_name": "Python 3",
   "language": "python",
   "name": "python3"
  },
  "language_info": {
   "codemirror_mode": {
    "name": "ipython",
    "version": 3
   },
   "file_extension": ".py",
   "mimetype": "text/x-python",
   "name": "python",
   "nbconvert_exporter": "python",
   "pygments_lexer": "ipython3",
   "version": "3.7.3"
  }
 },
 "nbformat": 4,
 "nbformat_minor": 4
}
