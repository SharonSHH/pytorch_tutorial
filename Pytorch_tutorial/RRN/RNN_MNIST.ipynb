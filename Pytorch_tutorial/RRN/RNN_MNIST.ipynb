{
 "cells": [
  {
   "cell_type": "markdown",
   "metadata": {},
   "source": [
    "# Use RNN to classify pictures （MNIST）\n",
    "\n",
    "### MNIST图片大小28*28，那么图片可以看作是长为28的序列，序列中的每个元素的特征维度是28.  \n",
    "这样，将一张图片变成一个序列；考虑到RNN对previous信息的记忆功能，我们将图片从左往右输入网络的时候，网络可以记忆前面观察的东西。 虽然，将一张图片切割成了28份，但网络仍能记住前面的部分。"
   ]
  },
  {
   "cell_type": "code",
   "execution_count": null,
   "metadata": {},
   "outputs": [],
   "source": [
    "import torch\n",
    "from torch import nn, optim\n",
    "from torch.autograd import Variable\n",
    "from torch.utils.data import DataLoader\n",
    "from torchvision import datasets, transforms\n",
    "from torchvision.datasets import mnist\n",
    "import numpy as np"
   ]
  },
  {
   "cell_type": "code",
   "execution_count": null,
   "metadata": {},
   "outputs": [],
   "source": [
    "def data_tf(x):\n",
    "    x = np.array(x, dtype='float32') / 255\n",
    "    x = (x - 0.5) / 0.5 # 标准化，这个技巧之后会讲到\n",
    "    x = x.reshape((-1,)) # 拉平\n",
    "    x = torch.from_numpy(x)\n",
    "    return x\n",
    "\n",
    "x_train = mnist.MNIST(root='./data', train=True, transform=data_tf, download=True)\n",
    "x_test = mnist.MNIST(root='./data', train=False, transform=data_tf, download=True)\n",
    "x_t = mnist.MNIST(root='./data', train=True, download=True)\n",
    "a_data, a_label = x_train[0]  # a_label: 5,读取的数字；a_data:image 信息\n"
   ]
  },
  {
   "cell_type": "code",
   "execution_count": null,
   "metadata": {},
   "outputs": [],
   "source": []
  }
 ],
 "metadata": {
  "kernelspec": {
   "display_name": "Python 3",
   "language": "python",
   "name": "python3"
  },
  "language_info": {
   "codemirror_mode": {
    "name": "ipython",
    "version": 3
   },
   "file_extension": ".py",
   "mimetype": "text/x-python",
   "name": "python",
   "nbconvert_exporter": "python",
   "pygments_lexer": "ipython3",
   "version": "3.7.3"
  }
 },
 "nbformat": 4,
 "nbformat_minor": 4
}
